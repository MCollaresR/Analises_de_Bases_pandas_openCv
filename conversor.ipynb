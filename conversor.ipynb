{
 "cells": [
  {
   "cell_type": "code",
   "execution_count": 7,
   "id": "c340e892-e296-46b8-97c8-0c05d7be4fa2",
   "metadata": {},
   "outputs": [],
   "source": [
    "from pdf2image import convert_from_path\n",
    "\n",
    "img = convert_from_path (pdf_path= '/home/elias/Documentos/Imperatriz/3/documento_1573497639764.pdf', output_folder = '/home/elias/Downloads/n', dpi = 300, fmt = 'jpg', size = (1400, 2000))\n",
    "\n",
    "#for imgs in img:       \n",
    " #   imgs.save('/home/elias/Downloads/teste1.png', 'PNG')"
   ]
  },
  {
   "cell_type": "code",
   "execution_count": 8,
   "id": "bb8c02fd-e277-4596-a713-56f4f3860698",
   "metadata": {},
   "outputs": [
    {
     "data": {
      "text/plain": [
       "[<PIL.JpegImagePlugin.JpegImageFile image mode=RGB size=1400x2000 at 0x7F92C013DA00>]"
      ]
     },
     "execution_count": 8,
     "metadata": {},
     "output_type": "execute_result"
    }
   ],
   "source": [
    "img "
   ]
  },
  {
   "cell_type": "code",
   "execution_count": null,
   "id": "e2ecd11b-83b1-430a-a527-d54263be14c5",
   "metadata": {},
   "outputs": [],
   "source": []
  },
  {
   "cell_type": "code",
   "execution_count": null,
   "id": "ee9bd166-2c4f-4273-b9ce-a652c7c0f197",
   "metadata": {},
   "outputs": [],
   "source": []
  },
  {
   "cell_type": "code",
   "execution_count": null,
   "id": "bcd79cf5-0673-44b1-9541-fb7244de6ba3",
   "metadata": {},
   "outputs": [],
   "source": []
  },
  {
   "cell_type": "code",
   "execution_count": null,
   "id": "fc294437-8c1a-4199-85f7-75ea399d4074",
   "metadata": {},
   "outputs": [],
   "source": []
  }
 ],
 "metadata": {
  "kernelspec": {
   "display_name": "Python 3 (ipykernel)",
   "language": "python",
   "name": "python3"
  },
  "language_info": {
   "codemirror_mode": {
    "name": "ipython",
    "version": 3
   },
   "file_extension": ".py",
   "mimetype": "text/x-python",
   "name": "python",
   "nbconvert_exporter": "python",
   "pygments_lexer": "ipython3",
   "version": "3.8.10"
  }
 },
 "nbformat": 4,
 "nbformat_minor": 5
}
